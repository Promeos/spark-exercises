{
 "cells": [
  {
   "cell_type": "markdown",
   "metadata": {},
   "source": [
    "# Spark Wrangle Exercises\n",
    "This exercises uses the `case.csv`, `dept.csv`, and `source.csv` files from the san antonio 311 call dataset.<br>\n",
    ">A. Read the `case`, `department`, and `source` data into their own spark dataframes.<br>\n",
    "B. Write the code necessary to store the source data in both __csv__ and __json__ format, store these as `sources_csv` and `sources_json`.<br>\n",
    "C. Inspect your _folder_ structure. What do you notice?<br>\n",
    "D. Inspect the data in your dataframes. Are the data types appropriate? Write the code necessary to cast the values to the appropriate types.<br>"
   ]
  },
  {
   "cell_type": "code",
   "execution_count": 1,
   "metadata": {},
   "outputs": [],
   "source": [
    "import pandas as pd\n",
    "\n",
    "from pyspark.sql import SparkSession\n",
    "from pyspark.sql.functions import *\n",
    "from pyspark.sql.types import StructField, StringType, StringType"
   ]
  },
  {
   "cell_type": "code",
   "execution_count": 2,
   "metadata": {},
   "outputs": [],
   "source": [
    "# Create a spark session object to build spark dataframes.\n",
    "spark = SparkSession.builder.getOrCreate()"
   ]
  },
  {
   "cell_type": "code",
   "execution_count": 3,
   "metadata": {},
   "outputs": [],
   "source": [
    "# 1. Read the case, dept, and source datasets into spark dataframes.\n",
    "df_case = spark.read.csv('data/case.csv', header=True, sep=',', inferSchema=True)\n",
    "df_dept = spark.read.csv('data/dept.csv', header=True, sep=',', inferSchema=True)\n",
    "df_source = spark.read.csv('data/source.csv', header=True, sep=',', inferSchema=True)"
   ]
  },
  {
   "cell_type": "markdown",
   "metadata": {},
   "source": [
    "## case.csv"
   ]
  },
  {
   "cell_type": "code",
   "execution_count": 4,
   "metadata": {},
   "outputs": [
    {
     "data": {
      "text/plain": [
       "(841704, 14)"
      ]
     },
     "execution_count": 4,
     "metadata": {},
     "output_type": "execute_result"
    }
   ],
   "source": [
    "# The dimensions of the case dataset\n",
    "df_case.count(), len(df_case.columns)"
   ]
  },
  {
   "cell_type": "code",
   "execution_count": 5,
   "metadata": {
    "scrolled": false
   },
   "outputs": [
    {
     "name": "stdout",
     "output_type": "stream",
     "text": [
      "-RECORD 0----------------------\n",
      " summary              | count  \n",
      " case_id              | 841704 \n",
      " case_opened_date     | 841704 \n",
      " case_closed_date     | 823594 \n",
      " SLA_due_date         | 841671 \n",
      " case_late            | 841704 \n",
      " num_days_late        | 841671 \n",
      " case_closed          | 841704 \n",
      " dept_division        | 841704 \n",
      " service_request_type | 841704 \n",
      " SLA_days             | 841671 \n",
      " case_status          | 841704 \n",
      " source_id            | 841704 \n",
      " request_address      | 841704 \n",
      " council_district     | 841704 \n",
      "only showing top 1 row\n",
      "\n"
     ]
    }
   ],
   "source": [
    "# Efficient way to show the number of non-null values in a spark dataframe\n",
    "df_case.summary().show(1, truncate=False, vertical=True)"
   ]
  },
  {
   "cell_type": "code",
   "execution_count": 6,
   "metadata": {},
   "outputs": [
    {
     "data": {
      "text/plain": [
       "[('case_id', 'int'),\n",
       " ('case_opened_date', 'string'),\n",
       " ('case_closed_date', 'string'),\n",
       " ('SLA_due_date', 'string'),\n",
       " ('case_late', 'string'),\n",
       " ('num_days_late', 'double'),\n",
       " ('case_closed', 'string'),\n",
       " ('dept_division', 'string'),\n",
       " ('service_request_type', 'string'),\n",
       " ('SLA_days', 'double'),\n",
       " ('case_status', 'string'),\n",
       " ('source_id', 'string'),\n",
       " ('request_address', 'string'),\n",
       " ('council_district', 'int')]"
      ]
     },
     "execution_count": 6,
     "metadata": {},
     "output_type": "execute_result"
    }
   ],
   "source": [
    "# Display the column names\n",
    "df_case.dtypes"
   ]
  },
  {
   "cell_type": "code",
   "execution_count": 7,
   "metadata": {},
   "outputs": [
    {
     "name": "stdout",
     "output_type": "stream",
     "text": [
      "-RECORD 0----------------------------------------------------\n",
      " case_id              | 1014127332                           \n",
      " case_opened_date     | 1/1/18 0:42                          \n",
      " case_closed_date     | 1/1/18 12:29                         \n",
      " SLA_due_date         | 9/26/20 0:42                         \n",
      " case_late            | NO                                   \n",
      " num_days_late        | -998.5087616000001                   \n",
      " case_closed          | YES                                  \n",
      " dept_division        | Field Operations                     \n",
      " service_request_type | Stray Animal                         \n",
      " SLA_days             | 999.0                                \n",
      " case_status          | Closed                               \n",
      " source_id            | svcCRMLS                             \n",
      " request_address      | 2315  EL PASO ST, San Antonio, 78207 \n",
      " council_district     | 5                                    \n",
      "-RECORD 1----------------------------------------------------\n",
      " case_id              | 1014127333                           \n",
      " case_opened_date     | 1/1/18 0:46                          \n",
      " case_closed_date     | 1/3/18 8:11                          \n",
      " SLA_due_date         | 1/5/18 8:30                          \n",
      " case_late            | NO                                   \n",
      " num_days_late        | -2.0126041669999997                  \n",
      " case_closed          | YES                                  \n",
      " dept_division        | Storm Water                          \n",
      " service_request_type | Removal Of Obstruction               \n",
      " SLA_days             | 4.322222222                          \n",
      " case_status          | Closed                               \n",
      " source_id            | svcCRMSS                             \n",
      " request_address      | 2215  GOLIAD RD, San Antonio, 78223  \n",
      " council_district     | 3                                    \n",
      "only showing top 2 rows\n",
      "\n"
     ]
    }
   ],
   "source": [
    "# Display a single record from the case dataset to understand what an obersation represents.\n",
    "# The `case` dataset has many columns that wrap around when displayed.\n",
    "# Pass: truncate=False, vertical=True to display the full values of each column.\n",
    "df_case.show(2, truncate=False, vertical=True)"
   ]
  },
  {
   "cell_type": "markdown",
   "metadata": {},
   "source": [
    "### `case` dataset: Record 0 takeaway\n",
    "Each row represents a 311 call.\n",
    "- Unique case_id\n",
    "- Case opened and closed datetimes.\n",
    "    - Date and time represents the total time it took the department to complete the case: Paper work, travel, tasks, etc.\n",
    "- The SLA due date is set 999 days from the case open date.\n",
    "- This type of case is late if it exceeds 999 days.\n",
    "- The number of days late is a negative number starting at -999, representing the case open date\n",
    "    - The fraction missing means that the case was opened and closed within half of a day.\n",
    "- Department division identifies the city department assigned to the case.\n",
    "- Service type request indentifies the type of request issued to the department.\n",
    "- SLA days is the maximum number of days this case can be opened.\n",
    "- Case status identifies if a case is opened or closed.\n",
    "- Source id may represent the division/personnel generating the request.\n",
    "- Request address is the location requesting 311 service.\n",
    "- Council district represents the district a location resides in.\n",
    "    - Council representatives can find common 311 requests among their constituents."
   ]
  },
  {
   "cell_type": "markdown",
   "metadata": {},
   "source": [
    "## dept.csv"
   ]
  },
  {
   "cell_type": "code",
   "execution_count": 8,
   "metadata": {},
   "outputs": [
    {
     "data": {
      "text/plain": [
       "(39, 4)"
      ]
     },
     "execution_count": 8,
     "metadata": {},
     "output_type": "execute_result"
    }
   ],
   "source": [
    "# The dimensions of the dept dataset\n",
    "df_dept.count(), len(df_dept.columns)"
   ]
  },
  {
   "cell_type": "code",
   "execution_count": 9,
   "metadata": {},
   "outputs": [
    {
     "data": {
      "text/plain": [
       "[('dept_division', 'string'),\n",
       " ('dept_name', 'string'),\n",
       " ('standardized_dept_name', 'string'),\n",
       " ('dept_subject_to_SLA', 'string')]"
      ]
     },
     "execution_count": 9,
     "metadata": {},
     "output_type": "execute_result"
    }
   ],
   "source": [
    "# Display the column names and datatypes\n",
    "# Column data types are correct\n",
    "df_dept.dtypes"
   ]
  },
  {
   "cell_type": "markdown",
   "metadata": {},
   "source": [
    "## source.csv"
   ]
  },
  {
   "cell_type": "code",
   "execution_count": 10,
   "metadata": {},
   "outputs": [
    {
     "data": {
      "text/plain": [
       "(140, 2)"
      ]
     },
     "execution_count": 10,
     "metadata": {},
     "output_type": "execute_result"
    }
   ],
   "source": [
    "# The dimensions of the source dataset\n",
    "df_source.count(), len(df_source.columns)"
   ]
  },
  {
   "cell_type": "code",
   "execution_count": 11,
   "metadata": {},
   "outputs": [
    {
     "data": {
      "text/plain": [
       "[('source_id', 'string'), ('source_username', 'string')]"
      ]
     },
     "execution_count": 11,
     "metadata": {},
     "output_type": "execute_result"
    }
   ],
   "source": [
    "# Display the column names and datatypes\n",
    "# Column data types are correct\n",
    "df_source.dtypes"
   ]
  },
  {
   "cell_type": "markdown",
   "metadata": {},
   "source": [
    "Save the source dataset in csv and JSON format.\n",
    "```python\n",
    "df_source.write.json('data/source_json', mode='overwrite')\n",
    "df_source.write.csv('data/source_csv', mode='overwrite')\n",
    "```\n",
    "This saves each sparkdataframe as a folder with 2 files:\n",
    "- _SUCCESS\n",
    "- A partition csv file."
   ]
  },
  {
   "cell_type": "markdown",
   "metadata": {},
   "source": [
    "# Data Preparation"
   ]
  },
  {
   "cell_type": "code",
   "execution_count": 12,
   "metadata": {},
   "outputs": [
    {
     "name": "stdout",
     "output_type": "stream",
     "text": [
      "root\n",
      " |-- case_id: integer (nullable = true)\n",
      " |-- case_opened_date: string (nullable = true)\n",
      " |-- case_closed_date: string (nullable = true)\n",
      " |-- SLA_due_date: string (nullable = true)\n",
      " |-- case_late: string (nullable = true)\n",
      " |-- num_days_late: double (nullable = true)\n",
      " |-- case_closed: string (nullable = true)\n",
      " |-- dept_division: string (nullable = true)\n",
      " |-- service_request_type: string (nullable = true)\n",
      " |-- SLA_days: double (nullable = true)\n",
      " |-- case_status: string (nullable = true)\n",
      " |-- source_id: string (nullable = true)\n",
      " |-- request_address: string (nullable = true)\n",
      " |-- council_district: integer (nullable = true)\n",
      "\n"
     ]
    }
   ],
   "source": [
    "df_case.printSchema()"
   ]
  },
  {
   "cell_type": "code",
   "execution_count": 13,
   "metadata": {},
   "outputs": [],
   "source": [
    "# Rename technical jargon into laymans terms...\n",
    "df_case = df_case.withColumnRenamed(\"SLA_due_date\", \"case_due_date\")"
   ]
  },
  {
   "cell_type": "code",
   "execution_count": 14,
   "metadata": {},
   "outputs": [],
   "source": [
    "# Create a variable to store a datetime string format\n",
    "dt_format = 'M/d/yy H:mm'\n",
    "\n",
    "# Cast each date column from string datatypes into datetime datatypes\n",
    "df_case = (\n",
    "    df_case.withColumn('case_opened_date', to_timestamp('case_opened_date', dt_format))\n",
    "           .withColumn('case_closed_date', to_timestamp('case_closed_date', dt_format))\n",
    "           .withColumn('case_due_date', to_timestamp('case_due_date', dt_format))\n",
    ")\n",
    "                       "
   ]
  },
  {
   "cell_type": "code",
   "execution_count": 15,
   "metadata": {},
   "outputs": [],
   "source": [
    "# Cast columns with binary outcomes from string datatype to boolean datatype.\n",
    "df_case = (\n",
    "    df_case.withColumn('case_closed', when(col('case_closed') == 'Open', True).otherwise(False))\n",
    "           .withColumn('case_late', when(col('case_late') == 'YES', True).otherwise(False))\n",
    ")"
   ]
  },
  {
   "cell_type": "code",
   "execution_count": 16,
   "metadata": {},
   "outputs": [],
   "source": [
    "# Transform the negative values to 0. This means that the case wasn't late.\n",
    "# If there is a non-zero value in this column, it means that the case was late x number of days.\n",
    "df_case = (\n",
    "    df_case.withColumn('num_days_late', when(col('num_days_late') < 0, 0).otherwise(col('num_days_late')))\n",
    ")"
   ]
  },
  {
   "cell_type": "code",
   "execution_count": 17,
   "metadata": {},
   "outputs": [
    {
     "name": "stdout",
     "output_type": "stream",
     "text": [
      "-RECORD 0----------------------------------------------------\n",
      " case_id              | 1014127332                           \n",
      " case_opened_date     | 2018-01-01 00:42:00                  \n",
      " case_closed_date     | 2018-01-01 12:29:00                  \n",
      " case_due_date        | 2020-09-26 00:42:00                  \n",
      " case_late            | false                                \n",
      " num_days_late        | 0.0                                  \n",
      " case_closed          | false                                \n",
      " dept_division        | Field Operations                     \n",
      " service_request_type | Stray Animal                         \n",
      " SLA_days             | 999.0                                \n",
      " case_status          | Closed                               \n",
      " source_id            | svcCRMLS                             \n",
      " request_address      | 2315  EL PASO ST, San Antonio, 78207 \n",
      " council_district     | 5                                    \n",
      " case_age             | 1065                                 \n",
      " days_to_closed       | 0                                    \n",
      " case_lifetime        | 1065                                 \n",
      "-RECORD 1----------------------------------------------------\n",
      " case_id              | 1014127333                           \n",
      " case_opened_date     | 2018-01-01 00:46:00                  \n",
      " case_closed_date     | 2018-01-03 08:11:00                  \n",
      " case_due_date        | 2018-01-05 08:30:00                  \n",
      " case_late            | false                                \n",
      " num_days_late        | 0.0                                  \n",
      " case_closed          | false                                \n",
      " dept_division        | Storm Water                          \n",
      " service_request_type | Removal Of Obstruction               \n",
      " SLA_days             | 4.322222222                          \n",
      " case_status          | Closed                               \n",
      " source_id            | svcCRMSS                             \n",
      " request_address      | 2215  GOLIAD RD, San Antonio, 78223  \n",
      " council_district     | 3                                    \n",
      " case_age             | 1065                                 \n",
      " days_to_closed       | 2                                    \n",
      " case_lifetime        | 1065                                 \n",
      "only showing top 2 rows\n",
      "\n"
     ]
    }
   ],
   "source": [
    "# Create new columns to measure the status of open v. closed requests.\n",
    "(\n",
    "df_case\n",
    ".withColumn(\"case_age\", datediff(current_timestamp(), \"case_opened_date\"))\n",
    ".withColumn(\"days_to_closed\", datediff(\"case_closed_date\", \"case_opened_date\"))\n",
    ".withColumn(\"case_lifetime\",\n",
    "            when(col('case_closed') == False, col(\"case_age\"))\n",
    "            .otherwise(col(\"days_to_closed\"))).show(2, truncate=False, vertical=True)\n",
    ")"
   ]
  },
  {
   "cell_type": "code",
   "execution_count": 18,
   "metadata": {},
   "outputs": [],
   "source": [
    "# Normalize string datatype columns\n",
    "df_case = (\n",
    "    df_case.withColumn('request_address', lower(trim('request_address')))\n",
    ")"
   ]
  },
  {
   "cell_type": "code",
   "execution_count": 19,
   "metadata": {},
   "outputs": [
    {
     "name": "stdout",
     "output_type": "stream",
     "text": [
      "-RECORD 0----------------------------------------------------\n",
      " case_id              | 1014127332                           \n",
      " case_opened_date     | 2018-01-01 00:42:00                  \n",
      " case_closed_date     | 2018-01-01 12:29:00                  \n",
      " case_due_date        | 2020-09-26 00:42:00                  \n",
      " case_late            | false                                \n",
      " num_days_late        | 0.0                                  \n",
      " case_closed          | false                                \n",
      " dept_division        | Field Operations                     \n",
      " service_request_type | Stray Animal                         \n",
      " SLA_days             | 999.0                                \n",
      " case_status          | Closed                               \n",
      " source_id            | svcCRMLS                             \n",
      " request_address      | 2315  el paso st, san antonio, 78207 \n",
      " council_district     | 5                                    \n",
      "only showing top 1 row\n",
      "\n"
     ]
    }
   ],
   "source": [
    "df_case.show(1, truncate=False, vertical=True)"
   ]
  },
  {
   "cell_type": "markdown",
   "metadata": {},
   "source": [
    "## 1. How old is the latest (in terms of days past SLA) currently open issue? How long has the oldest (in terms of days since opened) currently opened issue been open?<br>\n",
    "> This question refers to the `case` dataset."
   ]
  },
  {
   "cell_type": "code",
   "execution_count": 20,
   "metadata": {},
   "outputs": [
    {
     "name": "stdout",
     "output_type": "stream",
     "text": [
      "+-------------+\n",
      "|days_past_due|\n",
      "+-------------+\n",
      "|         1430|\n",
      "|         1430|\n",
      "|         1430|\n",
      "|         1430|\n",
      "|         1430|\n",
      "|         1430|\n",
      "|         1430|\n",
      "|         1430|\n",
      "|         1430|\n",
      "|         1430|\n",
      "+-------------+\n",
      "only showing top 10 rows\n",
      "\n"
     ]
    }
   ],
   "source": [
    "(\n",
    "df_case\n",
    ".select(datediff('current_timestamp', 'case_due_date').alias('days_past_due'))\n",
    ".filter(col('case_closed') == False)\n",
    ".sort(col('days_past_due').desc())\n",
    ".show(10)\n",
    ")"
   ]
  },
  {
   "cell_type": "markdown",
   "metadata": {},
   "source": [
    "## 2. How many Stray Animal cases are there?"
   ]
  },
  {
   "cell_type": "code",
   "execution_count": 21,
   "metadata": {},
   "outputs": [
    {
     "data": {
      "text/plain": [
       "26760"
      ]
     },
     "execution_count": 21,
     "metadata": {},
     "output_type": "execute_result"
    }
   ],
   "source": [
    "df_case.filter(col('service_request_type') == 'Stray Animal').count()"
   ]
  },
  {
   "cell_type": "markdown",
   "metadata": {},
   "source": [
    "## 3. How many service requests that are assigned to the Field Operations department (`dept_division`) are not classified as \"Officer Standby\" request type (`service_request_type`)?"
   ]
  },
  {
   "cell_type": "code",
   "execution_count": 22,
   "metadata": {},
   "outputs": [
    {
     "data": {
      "text/plain": [
       "113902"
      ]
     },
     "execution_count": 22,
     "metadata": {},
     "output_type": "execute_result"
    }
   ],
   "source": [
    "(\n",
    "df_case\n",
    ".filter(col('dept_division') == 'Field Operations')\n",
    ".filter(col('service_request_type') != 'Officer Standby').count()\n",
    ")"
   ]
  },
  {
   "cell_type": "markdown",
   "metadata": {},
   "source": [
    "## 4. Convert the `council_district` column to a string column."
   ]
  },
  {
   "cell_type": "code",
   "execution_count": 23,
   "metadata": {},
   "outputs": [],
   "source": [
    "df_case = df_case.withColumn('council_district', col('council_district').cast('string'))"
   ]
  },
  {
   "cell_type": "markdown",
   "metadata": {},
   "source": [
    "## 5. Extract the year from the `case_closed_date` column."
   ]
  },
  {
   "cell_type": "code",
   "execution_count": 24,
   "metadata": {},
   "outputs": [],
   "source": [
    "df_case = df_case.withColumn('year', year('case_closed_date'))"
   ]
  },
  {
   "cell_type": "markdown",
   "metadata": {},
   "source": [
    "## 6. Convert `num_days_late` from days to hours in new columns `num_hours_late`."
   ]
  },
  {
   "cell_type": "code",
   "execution_count": 25,
   "metadata": {},
   "outputs": [],
   "source": [
    "df_case = df_case.withColumn('num_hours_late', col('num_days_late') * 24)"
   ]
  },
  {
   "cell_type": "markdown",
   "metadata": {},
   "source": [
    "## 7. Join the case data with the source and department data."
   ]
  },
  {
   "cell_type": "code",
   "execution_count": 26,
   "metadata": {},
   "outputs": [
    {
     "name": "stdout",
     "output_type": "stream",
     "text": [
      "-RECORD 0---------------------------\n",
      " source_id       | 100137           \n",
      " source_username | Merlene Blodgett \n",
      "only showing top 1 row\n",
      "\n"
     ]
    }
   ],
   "source": [
    "df_source.show(1, truncate=False, vertical=True)"
   ]
  },
  {
   "cell_type": "code",
   "execution_count": 27,
   "metadata": {},
   "outputs": [
    {
     "name": "stdout",
     "output_type": "stream",
     "text": [
      "-RECORD 0----------------------------------\n",
      " dept_division          | 311 Call Center  \n",
      " dept_name              | Customer Service \n",
      " standardized_dept_name | Customer Service \n",
      " dept_subject_to_SLA    | YES              \n",
      "only showing top 1 row\n",
      "\n"
     ]
    }
   ],
   "source": [
    "df_dept.show(1, truncate=False, vertical=True)"
   ]
  },
  {
   "cell_type": "code",
   "execution_count": 28,
   "metadata": {},
   "outputs": [],
   "source": [
    "df = (\n",
    "    df_case\n",
    "    .join(df_dept, 'dept_division', 'left')\n",
    "    .join(df_source, 'source_id', 'left')\n",
    ")"
   ]
  },
  {
   "cell_type": "code",
   "execution_count": 29,
   "metadata": {},
   "outputs": [
    {
     "name": "stdout",
     "output_type": "stream",
     "text": [
      "-RECORD 0------------------------------------------------------\n",
      " source_id              | svcCRMLS                             \n",
      " dept_division          | Field Operations                     \n",
      " case_id                | 1014127332                           \n",
      " case_opened_date       | 2018-01-01 00:42:00                  \n",
      " case_closed_date       | 2018-01-01 12:29:00                  \n",
      " case_due_date          | 2020-09-26 00:42:00                  \n",
      " case_late              | false                                \n",
      " num_days_late          | 0.0                                  \n",
      " case_closed            | false                                \n",
      " service_request_type   | Stray Animal                         \n",
      " SLA_days               | 999.0                                \n",
      " case_status            | Closed                               \n",
      " request_address        | 2315  el paso st, san antonio, 78207 \n",
      " council_district       | 5                                    \n",
      " year                   | 2018                                 \n",
      " num_hours_late         | 0.0                                  \n",
      " dept_name              | Animal Care Services                 \n",
      " standardized_dept_name | Animal Care Services                 \n",
      " dept_subject_to_SLA    | YES                                  \n",
      " source_username        | svcCRMLS                             \n",
      "only showing top 1 row\n",
      "\n"
     ]
    }
   ],
   "source": [
    "df.show(1, truncate=False, vertical=True)"
   ]
  },
  {
   "cell_type": "markdown",
   "metadata": {},
   "source": [
    "## 8. Are there any cases that do not have a request source?"
   ]
  },
  {
   "cell_type": "code",
   "execution_count": 30,
   "metadata": {},
   "outputs": [
    {
     "name": "stdout",
     "output_type": "stream",
     "text": [
      "(0 rows)\n",
      "\n"
     ]
    }
   ],
   "source": [
    "df.filter(col('source_id').isNull()).show(vertical=True)"
   ]
  },
  {
   "cell_type": "markdown",
   "metadata": {},
   "source": [
    "## 9. What are the top 10 service request types in terms of number of requests?"
   ]
  },
  {
   "cell_type": "code",
   "execution_count": 31,
   "metadata": {},
   "outputs": [
    {
     "name": "stdout",
     "output_type": "stream",
     "text": [
      "+--------------------------------+-----+\n",
      "|service_request_type            |count|\n",
      "+--------------------------------+-----+\n",
      "|No Pickup                       |89210|\n",
      "|Overgrown Yard/Trash            |66403|\n",
      "|Bandit Signs                    |32968|\n",
      "|Damaged Cart                    |31163|\n",
      "|Front Or Side Yard Parking      |28920|\n",
      "|Stray Animal                    |27361|\n",
      "|Aggressive Animal(Non-Critical) |25492|\n",
      "|Cart Exchange Request           |22608|\n",
      "|Junk Vehicle On Private Property|21649|\n",
      "|Pot Hole Repair                 |20827|\n",
      "+--------------------------------+-----+\n",
      "only showing top 10 rows\n",
      "\n"
     ]
    }
   ],
   "source": [
    "df.groupby('service_request_type').count().sort(desc('count')).show(10, truncate=False)"
   ]
  },
  {
   "cell_type": "markdown",
   "metadata": {},
   "source": [
    "## 10. What are the top 10 service request types in terms of average days late?"
   ]
  },
  {
   "cell_type": "code",
   "execution_count": 32,
   "metadata": {},
   "outputs": [
    {
     "name": "stdout",
     "output_type": "stream",
     "text": [
      "+--------------------------------------+-----------+-------+\n",
      "|service_request_type                  |n_days_late|n_cases|\n",
      "+--------------------------------------+-----------+-------+\n",
      "|Zoning: Recycle Yard                  |210.89     |132    |\n",
      "|Zoning: Junk Yards                    |200.21     |262    |\n",
      "|Structure/Housing Maintenance         |190.21     |51     |\n",
      "|Donation Container Enforcement        |171.09     |122    |\n",
      "|Storage of Used Mattress              |163.97     |7      |\n",
      "|Labeling for Used Mattress            |162.43     |7      |\n",
      "|Record Keeping of Used Mattresses     |154.0      |7      |\n",
      "|Signage Requied for Sale of Used Mattr|151.64     |12     |\n",
      "|Traffic Signal Graffiti               |137.65     |4      |\n",
      "|License Requied Used Mattress Sales   |128.8      |7      |\n",
      "+--------------------------------------+-----------+-------+\n",
      "only showing top 10 rows\n",
      "\n"
     ]
    }
   ],
   "source": [
    "(\n",
    "df\n",
    ".where(col('case_late') == True)\n",
    ".groupBy('service_request_type')\n",
    ".agg(round(mean('num_days_late'), 2).alias('n_days_late'),\n",
    "     count('*').alias('n_cases'),\n",
    "    )\n",
    ".sort(desc('n_days_late'))\n",
    ".show(10, truncate=False)\n",
    ")"
   ]
  },
  {
   "cell_type": "markdown",
   "metadata": {},
   "source": [
    "## 11. Does number of days late depend on department?"
   ]
  },
  {
   "cell_type": "code",
   "execution_count": 33,
   "metadata": {},
   "outputs": [
    {
     "name": "stdout",
     "output_type": "stream",
     "text": [
      "+-------------------------+-------------+------------+\n",
      "|dept_name                |avg_days_late|n_cases_late|\n",
      "+-------------------------+-------------+------------+\n",
      "|null                     |210.9        |132         |\n",
      "|Customer Service         |88.2         |2035        |\n",
      "|Development Services     |67.2         |840         |\n",
      "|Code Enforcement Services|48.1         |25467       |\n",
      "|Animal Care Services     |23.4         |23751       |\n",
      "|Parks and Recreation     |22.4         |3810        |\n",
      "|Trans & Cap Improvements |10.7         |5529        |\n",
      "|Solid Waste Management   |7.1          |33729       |\n",
      "|Metro Health             |6.5          |854         |\n",
      "+-------------------------+-------------+------------+\n",
      "\n"
     ]
    }
   ],
   "source": [
    "(\n",
    "df\n",
    ".filter('case_late')\n",
    ".groupby('dept_name')\n",
    ".agg(avg('num_days_late').alias('avg_days_late'),\n",
    "     count('num_days_late').alias('n_cases_late'),\n",
    "    )\n",
    ".sort(desc('avg_days_late'))\n",
    ".withColumn('avg_days_late', round(col('avg_days_late'), 1))\n",
    ".show(truncate=False)\n",
    ")"
   ]
  },
  {
   "cell_type": "markdown",
   "metadata": {},
   "source": [
    "## 12. How do number of days late depend on department and request type?"
   ]
  },
  {
   "cell_type": "code",
   "execution_count": null,
   "metadata": {},
   "outputs": [],
   "source": []
  }
 ],
 "metadata": {
  "kernelspec": {
   "display_name": "Python 3",
   "language": "python",
   "name": "python3"
  },
  "language_info": {
   "codemirror_mode": {
    "name": "ipython",
    "version": 3
   },
   "file_extension": ".py",
   "mimetype": "text/x-python",
   "name": "python",
   "nbconvert_exporter": "python",
   "pygments_lexer": "ipython3",
   "version": "3.7.6"
  }
 },
 "nbformat": 4,
 "nbformat_minor": 4
}
