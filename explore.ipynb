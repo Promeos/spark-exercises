{
 "cells": [
  {
   "cell_type": "markdown",
   "metadata": {},
   "source": [
    "# Spark Exploration"
   ]
  },
  {
   "cell_type": "code",
   "execution_count": 1,
   "metadata": {},
   "outputs": [],
   "source": [
    "import pyspark.sql\n",
    "from pyspark.sql.functions import *\n",
    "\n",
    "import numpy as np\n",
    "import pandas as pd\n",
    "\n",
    "import matplotlib.pyplot as plt\n",
    "import seaborn as sns\n",
    "\n",
    "from wrangle import wrangle_311\n",
    "\n",
    "import warnings \n",
    "warnings.filterwarnings(\"ignore\")\n",
    "\n",
    "spark = pyspark.sql.SparkSession.builder.getOrCreate()"
   ]
  },
  {
   "cell_type": "code",
   "execution_count": 2,
   "metadata": {},
   "outputs": [
    {
     "name": "stdout",
     "output_type": "stream",
     "text": [
      "[wrangle.py] reading case.csv\n",
      "[wrangle.py] handling data types\n",
      "[wrangle.py] parsing dates\n",
      "[wrangle.py] adding features\n",
      "[wrangle.py] joining departments\n"
     ]
    }
   ],
   "source": [
    "# Use the wrangle function provided by Zach to prepare and\n",
    "# combine the 311 dataset.\n",
    "df = wrangle_311(spark)"
   ]
  },
  {
   "cell_type": "code",
   "execution_count": 3,
   "metadata": {},
   "outputs": [
    {
     "name": "stdout",
     "output_type": "stream",
     "text": [
      "There are 841,704 observations and 20 features.\n"
     ]
    }
   ],
   "source": [
    "# Display the shape of the spark dataframe\n",
    "print(f'There are {df.count():,} observations and {len(df.columns)} features.')"
   ]
  },
  {
   "cell_type": "markdown",
   "metadata": {},
   "source": [
    "# Exercise Questions"
   ]
  },
  {
   "cell_type": "code",
   "execution_count": 4,
   "metadata": {},
   "outputs": [
    {
     "name": "stdout",
     "output_type": "stream",
     "text": [
      "-RECORD 0------------------------------------\n",
      " case_id              | 1014127332           \n",
      " case_opened_date     | 2018-01-01 00:42:00  \n",
      " case_closed_date     | 2018-01-01 12:29:00  \n",
      " case_due_date        | 2020-09-26 00:42:00  \n",
      " case_late            | false                \n",
      " num_days_late        | -998.5087616000001   \n",
      " case_closed          | true                 \n",
      " service_request_type | Stray Animal         \n",
      " SLA_days             | 999.0                \n",
      " case_status          | Closed               \n",
      " source_id            | svcCRMLS             \n",
      " request_address      | 2315  EL PASO ST,... \n",
      " council_district     | 005                  \n",
      " num_weeks_late       | -142.6441088         \n",
      " zipcode              | 78207                \n",
      " case_age             | 219                  \n",
      " days_to_closed       | 0                    \n",
      " case_lifetime        | 0                    \n",
      " department           | Animal Care Services \n",
      " dept_subject_to_SLA  | true                 \n",
      "only showing top 1 row\n",
      "\n"
     ]
    }
   ],
   "source": [
    "# Display a single observation to the collective features represent.\n",
    "df.show(1, vertical=True)"
   ]
  },
  {
   "cell_type": "markdown",
   "metadata": {},
   "source": [
    "## 1. How many different cases are there, by department?\n",
    "\n",
    ">To answer this question, we'll need to use: `groupby()` and `countDistinct()`. We want to find the number of different (meaning: DISTINCT) cases each department handles. This will give us information to consider when looking at open/close, late/not late case time differences.\n",
    "```python\n",
    "(\n",
    "# We groupby the department column to set it as our index (meaning: Observations we're looking for)\n",
    "df.groupby('department')\n",
    "    \n",
    "# We use the aggregate function to collect values by passing a function\n",
    ".agg(\n",
    "    # The function we pass is `countDistinct()`. It counts the number of distinct values\n",
    "    # in a column. In our case 'service_request_type'.\n",
    "    countDistinct('service_request_type')\n",
    "    \n",
    "    # Give the aggregation an alias for presentation.\n",
    "    .alias('distinct_cases'))\n",
    "    \n",
    "# Sort by the department column for presentation.\n",
    ".sort('department')\n",
    "    \n",
    "# Display the results without truncating strings longer than 20 characters.\n",
    ".show(truncate=False)\n",
    ")\n",
    "```"
   ]
  },
  {
   "cell_type": "code",
   "execution_count": 5,
   "metadata": {},
   "outputs": [
    {
     "name": "stdout",
     "output_type": "stream",
     "text": [
      "+------------------------+--------------+\n",
      "|department              |distinct_cases|\n",
      "+------------------------+--------------+\n",
      "|Animal Care Services    |14            |\n",
      "|City Council            |2             |\n",
      "|Customer Service        |2             |\n",
      "|DSD/Code Enforcement    |122           |\n",
      "|Metro Health            |14            |\n",
      "|Parks & Recreation      |44            |\n",
      "|Solid Waste             |56            |\n",
      "|Trans & Cap Improvements|81            |\n",
      "+------------------------+--------------+\n",
      "\n"
     ]
    }
   ],
   "source": [
    "# Answer with inline comments removed.\n",
    "(\n",
    "    df.groupby('department')\n",
    "    .agg(countDistinct('service_request_type').alias('distinct_cases'))\n",
    "    .sort('department')\n",
    "    .show(truncate=False)\n",
    ")"
   ]
  },
  {
   "cell_type": "markdown",
   "metadata": {},
   "source": [
    "## 2. Does the percentage of cases that are late vary by department?\n",
    "> To answer this question let's first establish what were looking for:<br>\n",
    "__Percentage of cases that are late by department__<br>\n",
    "\n",
    "This one was a bit challenging.\n",
    "\n",
    "```python\n",
    "(\n",
    "# Group the dataframe by the department column to set it as the index\n",
    "# ->The observation we're looking for: 'departments.\n",
    "df.groupby('department')\n",
    "\n",
    "# We pivot the 'case_late' column to create a new dataframe\n",
    "# 'case_late' values: True if a case is late, False otherwise.\n",
    ".pivot('case_late')\n",
    "\n",
    "# Use the count function to total the number of late cases and on-time cases.\n",
    ".count()\n",
    "    \n",
    "# Select the 'department' column for context from the pivoted dataframe.\n",
    ".select('department',\n",
    "\n",
    "        # Calculate the proportion of late cases per department.\n",
    "        # Formula per department: total late cases / total cases.\n",
    "        # Round for presentation\n",
    "        round((col('true') / (col('true') + col('false'))), 3)\n",
    "        \n",
    "        # Alias the calculation for context and presentation\n",
    "        .alias('pct_cases_late'))\n",
    "    \n",
    "# City council had 0 missing cases. Fill with 0.\n",
    ".na.fill(0)\n",
    "    \n",
    "# Sort by department for presentation\n",
    ".sort('department')\n",
    "    \n",
    "# display the results\n",
    ".show()\n",
    ")\n",
    "```"
   ]
  },
  {
   "cell_type": "code",
   "execution_count": 6,
   "metadata": {},
   "outputs": [
    {
     "name": "stdout",
     "output_type": "stream",
     "text": [
      "+------------------------+--------------+\n",
      "|department              |pct_cases_late|\n",
      "+------------------------+--------------+\n",
      "|Animal Care Services    |0.199085      |\n",
      "|City Council            |0.0           |\n",
      "|Customer Service        |0.705511      |\n",
      "|DSD/Code Enforcement    |0.081634      |\n",
      "|Metro Health            |0.160566      |\n",
      "|Parks & Recreation      |0.190737      |\n",
      "|Solid Waste             |0.117968      |\n",
      "|Trans & Cap Improvements|0.056251      |\n",
      "+------------------------+--------------+\n",
      "\n"
     ]
    }
   ],
   "source": [
    "# Answer with inline comments removed.\n",
    "df_department_pct_late_cases = (\n",
    "\n",
    "    df.groupby('department')\n",
    "      .pivot('case_late')\n",
    "    .count()\n",
    "    .select('department',\n",
    "            round((col('true')\n",
    "                   / (col('true') + col('false')))\n",
    "                  , 6)\n",
    "            .alias('pct_cases_late'))\n",
    "    \n",
    "    .na.fill(0)\n",
    "    .sort('department')\n",
    ")\n",
    "\n",
    "df_department_pct_late_cases.show(truncate=False)"
   ]
  },
  {
   "cell_type": "code",
   "execution_count": 239,
   "metadata": {},
   "outputs": [
    {
     "name": "stdout",
     "output_type": "stream",
     "text": [
      "+------------------------+--------------+\n",
      "|department              |pct_cases_late|\n",
      "+------------------------+--------------+\n",
      "|Animal Care Services    |0.199085      |\n",
      "|City Council            |0.0           |\n",
      "|Customer Service        |0.705511      |\n",
      "|DSD/Code Enforcement    |0.081634      |\n",
      "|Metro Health            |0.160566      |\n",
      "|Parks & Recreation      |0.190737      |\n",
      "|Solid Waste             |0.117968      |\n",
      "|Trans & Cap Improvements|0.056251      |\n",
      "+------------------------+--------------+\n",
      "\n"
     ]
    }
   ],
   "source": [
    "(\n",
    "    df.groupby('department')\n",
    "    .pivot('case_late')\n",
    "    .count()\n",
    "    .select('department',\n",
    "             round((col('true') / (col('true') + col('false'))), 6).alias('pct_cases_late'))\n",
    "    .na.fill(0)\n",
    "    .sort('department')\n",
    "    .show(truncate=False)\n",
    ")"
   ]
  },
  {
   "cell_type": "code",
   "execution_count": 7,
   "metadata": {
    "scrolled": false
   },
   "outputs": [
    {
     "data": {
      "image/png": "[encoded data removed]",
      "text/plain": [
       "<Figure size 936x504 with 1 Axes>"
      ]
     },
     "metadata": {
      "needs_background": "light"
     },
     "output_type": "display_data"
    }
   ],
   "source": [
    "(\n",
    "    df_department_pct_late_cases\n",
    "    .toPandas()\n",
    "    .set_index('department')\n",
    "    ['pct_cases_late'].sort_values(ascending=False)\n",
    "    .plot.barh(figsize=(13, 7))\n",
    ");"
   ]
  },
  {
   "cell_type": "markdown",
   "metadata": {},
   "source": [
    "## 3. On average, how late are the late cases by department?"
   ]
  },
  {
   "cell_type": "code",
   "execution_count": 20,
   "metadata": {},
   "outputs": [
    {
     "name": "stdout",
     "output_type": "stream",
     "text": [
      "+--------------------+-------------+\n",
      "|          department|avg_days_late|\n",
      "+--------------------+-------------+\n",
      "|Animal Care Services|         23.0|\n",
      "|    Customer Service|         88.0|\n",
      "|DSD/Code Enforcement|         49.0|\n",
      "|        Metro Health|          7.0|\n",
      "|  Parks & Recreation|         22.0|\n",
      "|         Solid Waste|          7.0|\n",
      "|Trans & Cap Impro...|         11.0|\n",
      "+--------------------+-------------+\n",
      "\n"
     ]
    }
   ],
   "source": [
    "(\n",
    "    df.filter(col('case_late') == True).groupby('department')\n",
    "    .agg(round(mean('num_days_late')).alias('avg_days_late'))\n",
    "    .sort('department')\n",
    "    .na.fill(0)\n",
    "    .show()\n",
    ")"
   ]
  },
  {
   "cell_type": "markdown",
   "metadata": {},
   "source": [
    "## 4. What is the service type that is the most late? Just for Parks & Rec?"
   ]
  },
  {
   "cell_type": "code",
   "execution_count": 27,
   "metadata": {},
   "outputs": [
    {
     "name": "stdout",
     "output_type": "stream",
     "text": [
      "+--------------------+--------------------+-------------+\n",
      "|department          |service_request_type|avg_days_late|\n",
      "+--------------------+--------------------+-------------+\n",
      "|DSD/Code Enforcement|Zoning: Recycle Yard|211.0        |\n",
      "+--------------------+--------------------+-------------+\n",
      "only showing top 1 row\n",
      "\n"
     ]
    }
   ],
   "source": [
    "(\n",
    "    df.filter(col('case_late') == True).groupby('department', 'service_request_type')\n",
    "    .agg(round(mean('num_days_late')).alias('avg_days_late'))\n",
    "    .sort(desc('avg_days_late'))\n",
    "    .na.fill(0)\n",
    "    .show(1, truncate=False)\n",
    ")"
   ]
  },
  {
   "cell_type": "code",
   "execution_count": 28,
   "metadata": {},
   "outputs": [
    {
     "name": "stdout",
     "output_type": "stream",
     "text": [
      "+------------------------+-------------+\n",
      "|service_request_type    |avg_days_late|\n",
      "+------------------------+-------------+\n",
      "|Amenity Park Improvement|77.0         |\n",
      "+------------------------+-------------+\n",
      "only showing top 1 row\n",
      "\n"
     ]
    }
   ],
   "source": [
    "(\n",
    "    df.filter(col('case_late') == True)\n",
    "    .filter(col('department') == 'Parks & Recreation')\n",
    "    .groupby('service_request_type')\n",
    "    .agg(round(mean('num_days_late')).alias('avg_days_late'))\n",
    "    .sort(desc('avg_days_late'))\n",
    "    .na.fill(0)\n",
    "    .show(1, truncate=False)\n",
    ")"
   ]
  },
  {
   "cell_type": "markdown",
   "metadata": {},
   "source": [
    "## 5. For the DSD/Code Enforcement department, what are the most common service request types? Look at other departments too."
   ]
  },
  {
   "cell_type": "code",
   "execution_count": 35,
   "metadata": {},
   "outputs": [
    {
     "name": "stdout",
     "output_type": "stream",
     "text": [
      "+--------------------------------------+-----+\n",
      "|service_request_type                  |count|\n",
      "+--------------------------------------+-----+\n",
      "|Overgrown Yard/Trash                  |65895|\n",
      "|Bandit Signs                          |32910|\n",
      "|Front Or Side Yard Parking            |28794|\n",
      "|Junk Vehicle On Private Property      |21473|\n",
      "|Alley-Way Maintenance                 |20214|\n",
      "|Right Of Way/Sidewalk Obstruction     |17699|\n",
      "|Vacant Lot/Overgrown/Trash            |9329 |\n",
      "|Minimum Housing-Owner Occupied        |8543 |\n",
      "|Graffiti: Private Property (Corridors)|8525 |\n",
      "|Dang. Premises/CL/SEC                 |8004 |\n",
      "+--------------------------------------+-----+\n",
      "only showing top 10 rows\n",
      "\n"
     ]
    }
   ],
   "source": [
    "(\n",
    "    df.filter(col('department') == 'DSD/Code Enforcement')\n",
    "    .groupby('service_request_type')\n",
    "    .count()\n",
    "    .sort(desc('count'))\n",
    "    .show(10, truncate=False)\n",
    ")"
   ]
  },
  {
   "cell_type": "code",
   "execution_count": 61,
   "metadata": {},
   "outputs": [],
   "source": [
    "department_names = list(df.select('department').toPandas()['department'].unique())"
   ]
  },
  {
   "cell_type": "code",
   "execution_count": 68,
   "metadata": {
    "scrolled": false
   },
   "outputs": [
    {
     "name": "stdout",
     "output_type": "stream",
     "text": [
      "Department: Animal Care Services\n",
      "+-------------------------------+-----+\n",
      "|service_request_type           |count|\n",
      "+-------------------------------+-----+\n",
      "|Stray Animal                   |26760|\n",
      "|Aggressive Animal(Non-Critical)|24882|\n",
      "|Animal Neglect                 |13441|\n",
      "|Trapped/Confined Animal        |11354|\n",
      "|Public Nuisance(Own Animal)    |10715|\n",
      "+-------------------------------+-----+\n",
      "only showing top 5 rows\n",
      "\n",
      "\n",
      "Department: Trans & Cap Improvements\n",
      "+----------------------------------------------+-----+\n",
      "|service_request_type                          |count|\n",
      "+----------------------------------------------+-----+\n",
      "|Pot Hole Repair                               |20616|\n",
      "|Traffic Signal Ops and Maintenance - Emergency|7997 |\n",
      "|Traffic Sign Missing/Down                     |5674 |\n",
      "|Base/Pavement Repair                          |5385 |\n",
      "|Signal Timing Modification                    |4414 |\n",
      "+----------------------------------------------+-----+\n",
      "only showing top 5 rows\n",
      "\n",
      "\n",
      "Department: DSD/Code Enforcement\n",
      "+--------------------------------+-----+\n",
      "|service_request_type            |count|\n",
      "+--------------------------------+-----+\n",
      "|Overgrown Yard/Trash            |65895|\n",
      "|Bandit Signs                    |32910|\n",
      "|Front Or Side Yard Parking      |28794|\n",
      "|Junk Vehicle On Private Property|21473|\n",
      "|Alley-Way Maintenance           |20214|\n",
      "+--------------------------------+-----+\n",
      "only showing top 5 rows\n",
      "\n",
      "\n",
      "Department: Solid Waste\n",
      "+---------------------+-----+\n",
      "|service_request_type |count|\n",
      "+---------------------+-----+\n",
      "|No Pickup            |86855|\n",
      "|Damaged Cart         |30338|\n",
      "|Cart Exchange Request|22024|\n",
      "|Lost/Stolen Cart     |18731|\n",
      "|Dead Animal - Dog    |16714|\n",
      "+---------------------+-----+\n",
      "only showing top 5 rows\n",
      "\n",
      "\n",
      "Department: Parks & Recreation\n",
      "+----------------------------+-----+\n",
      "|service_request_type        |count|\n",
      "+----------------------------+-----+\n",
      "|Carpentry                   |1944 |\n",
      "|Plumbing                    |1782 |\n",
      "|Heating and Air Conditioning|1459 |\n",
      "|Playgrounds                 |1438 |\n",
      "|Ballfields                  |1234 |\n",
      "+----------------------------+-----+\n",
      "only showing top 5 rows\n",
      "\n",
      "\n",
      "Department: Customer Service\n",
      "+--------------------+-----+\n",
      "|service_request_type|count|\n",
      "+--------------------+-----+\n",
      "|Complaint           |2388 |\n",
      "|Compliment          |461  |\n",
      "+--------------------+-----+\n",
      "\n",
      "\n",
      "Department: Metro Health\n",
      "+-----------------------+-----+\n",
      "|service_request_type   |count|\n",
      "+-----------------------+-----+\n",
      "|License Renewal Invoice|1349 |\n",
      "|Hygienic Practices     |946  |\n",
      "|Pests                  |715  |\n",
      "|Food Contact Surfaces  |602  |\n",
      "|Public Right of Way    |538  |\n",
      "+-----------------------+-----+\n",
      "only showing top 5 rows\n",
      "\n",
      "\n",
      "Department: City Council\n",
      "+--------------------------------------+-----+\n",
      "|service_request_type                  |count|\n",
      "+--------------------------------------+-----+\n",
      "|Request for Research/Information      |31   |\n",
      "|CCO_Request for Research/Information_1|2    |\n",
      "+--------------------------------------+-----+\n",
      "\n",
      "\n"
     ]
    }
   ],
   "source": [
    "for name in department_names:\n",
    "    print(f'Department: {name}')\n",
    "    \n",
    "    (\n",
    "    df.filter(col('department') == f'{name}')\n",
    "    .groupby('service_request_type')\n",
    "    .count()\n",
    "    .sort(desc('count'))\n",
    "    .show(5, truncate=False)\n",
    "    )\n",
    "    print('')"
   ]
  },
  {
   "cell_type": "markdown",
   "metadata": {},
   "source": [
    "## 6. Does whether or not its a weekend matter for when a case is opened/closed?"
   ]
  },
  {
   "cell_type": "code",
   "execution_count": 136,
   "metadata": {
    "scrolled": false
   },
   "outputs": [
    {
     "name": "stdout",
     "output_type": "stream",
     "text": [
      "+------------------+------------------+------+\n",
      "|day_of_week_opened|day_of_week_closed| count|\n",
      "+------------------+------------------+------+\n",
      "|           weekday|           weekday|690853|\n",
      "|           weekday|           weekend| 51353|\n",
      "|           weekend|           weekday| 44714|\n",
      "|           weekend|           weekend| 36674|\n",
      "+------------------+------------------+------+\n",
      "\n"
     ]
    }
   ],
   "source": [
    "(\n",
    "    df.select(when(dayofweek('case_opened_date').isin([1,7]).cast(\"int\") == 0, 'weekday')\n",
    "              .otherwise('weekend').alias('day_of_week_opened'),\n",
    "              when(dayofweek('case_closed_date').isin([1,7]).cast(\"int\") == 0, 'weekday')\n",
    "              .otherwise('weekend').alias('day_of_week_closed'))\n",
    "    .filter(col('case_closed') == True)\n",
    "    .groupby('day_of_week_opened', 'day_of_week_closed')\n",
    "    .count()\n",
    "    .sort('day_of_week_opened', 'day_of_week_closed')\n",
    "    .show()\n",
    ")"
   ]
  },
  {
   "cell_type": "code",
   "execution_count": 258,
   "metadata": {},
   "outputs": [],
   "source": [
    "day_of_week_opened_closed = (\n",
    "    \n",
    "    df.select(when(dayofweek('case_opened_date').isin([1,7]).cast(\"int\") == 0, 'weekday')\n",
    "              .otherwise('weekend').alias('day_of_week_opened'),\n",
    "              when(dayofweek('case_closed_date').isin([1,7]).cast(\"int\") == 0, 'weekday')\n",
    "              .otherwise('weekend').alias('day_of_week_closed'))\n",
    "    .filter(col('case_closed') == True)\n",
    "    .groupby('day_of_week_opened', 'day_of_week_closed')\n",
    "    .count()\n",
    "    .withColumnRenamed('count', 'cases')\n",
    "    .sort('day_of_week_opened', 'day_of_week_closed')\n",
    ")"
   ]
  },
  {
   "cell_type": "code",
   "execution_count": 260,
   "metadata": {},
   "outputs": [],
   "source": [
    "df_dow = day_of_week_opened_closed.toPandas()\n",
    "\n",
    "df_dow = df_dow.assign(\n",
    "    opened_closed = df_dow.day_of_week_opened + '-' + df_dow.day_of_week_closed\n",
    ")\n",
    "\n",
    "df_dow = df_dow.drop(columns=['day_of_week_opened', 'day_of_week_closed'])"
   ]
  },
  {
   "cell_type": "code",
   "execution_count": 270,
   "metadata": {},
   "outputs": [
    {
     "data": {
      "image/png": "[encoded data removed]",
      "text/plain": [
       "<Figure size 1152x504 with 1 Axes>"
      ]
     },
     "metadata": {
      "needs_background": "light"
     },
     "output_type": "display_data"
    }
   ],
   "source": [
    "df_dow.set_index('opened_closed').plot.barh(figsize=(16, 7), ec='black')\n",
    "plt.title('The day of the week a case is open and closed')\n",
    "plt.xlabel('Number of Cases')\n",
    "plt.ylabel('Open Day - Close Day');"
   ]
  },
  {
   "cell_type": "markdown",
   "metadata": {},
   "source": [
    "## 7. On average, how many cases are opened a day for the Customer Service department?"
   ]
  },
  {
   "cell_type": "code",
   "execution_count": 251,
   "metadata": {},
   "outputs": [
    {
     "name": "stdout",
     "output_type": "stream",
     "text": [
      "+-----------+------------+\n",
      "|day_of_week|cases_opened|\n",
      "+-----------+------------+\n",
      "|   1-Sunday|          36|\n",
      "|   2-Monday|         444|\n",
      "|  3-Tuesday|         630|\n",
      "|4-Wednesday|         465|\n",
      "| 5-Thursday|         560|\n",
      "|   6-Friday|         546|\n",
      "| 7-Saturday|         168|\n",
      "+-----------+------------+\n",
      "\n"
     ]
    }
   ],
   "source": [
    "(    \n",
    "    df.filter(col('department') == 'Customer Service')\n",
    "    .select(concat(dayofweek(col('case_opened_date')), lit('-'), date_format(col('case_opened_date'), 'EEEE')).alias('day_of_week'))\n",
    "    .groupby('day_of_week')\n",
    "    .count()\n",
    "    .withColumnRenamed('count', 'cases_opened')\n",
    "    .sort('day_of_week')\n",
    "    .show()\n",
    ")"
   ]
  },
  {
   "cell_type": "code",
   "execution_count": 250,
   "metadata": {},
   "outputs": [
    {
     "name": "stdout",
     "output_type": "stream",
     "text": [
      "The average number of cases opened by the Customer Service department\n",
      "+--------------------------+\n",
      "|daily_average_cases_opened|\n",
      "+--------------------------+\n",
      "|                     407.0|\n",
      "+--------------------------+\n",
      "\n"
     ]
    }
   ],
   "source": [
    "print('The average number of cases opened by the Customer Service department')\n",
    "(    \n",
    "    df.filter(col('department') == 'Customer Service')\n",
    "    .groupby(dayofweek('case_opened_date').alias('day_of_week_opened'))\n",
    "    .count()\n",
    "    .agg(avg('count').alias('daily_average_cases_opened'))\n",
    "    .show()\n",
    ")"
   ]
  },
  {
   "cell_type": "markdown",
   "metadata": {},
   "source": [
    "## 8. Does the number of service requests for the solid waste department vary by day of the week?"
   ]
  },
  {
   "cell_type": "code",
   "execution_count": 209,
   "metadata": {},
   "outputs": [],
   "source": [
    "solid_waste_weekly_requests = (\n",
    "    df.filter(col('department') == 'Solid Waste')\n",
    "        .select(weekofyear(col('case_opened_date')).alias('request_week_of_year'))\n",
    "        .groupby('request_week_of_year')\n",
    "        .count()\n",
    "        .withColumnRenamed('count', 'Cases')\n",
    "        .sort('request_week_of_year')\n",
    ")"
   ]
  },
  {
   "cell_type": "code",
   "execution_count": 210,
   "metadata": {},
   "outputs": [
    {
     "name": "stdout",
     "output_type": "stream",
     "text": [
      "+--------------------+-----+\n",
      "|request_week_of_year|Cases|\n",
      "+--------------------+-----+\n",
      "|                   1| 5955|\n",
      "|                   2| 6689|\n",
      "|                   3| 5198|\n",
      "|                   4| 6214|\n",
      "|                   5| 6346|\n",
      "+--------------------+-----+\n",
      "only showing top 5 rows\n",
      "\n"
     ]
    }
   ],
   "source": [
    "solid_waste_weekly_requests.show(5)"
   ]
  },
  {
   "cell_type": "code",
   "execution_count": 213,
   "metadata": {},
   "outputs": [
    {
     "data": {
      "image/png": "[encoded data removed]",
      "text/plain": [
       "<Figure size 1152x504 with 1 Axes>"
      ]
     },
     "metadata": {
      "needs_background": "light"
     },
     "output_type": "display_data"
    }
   ],
   "source": [
    "(\n",
    "    solid_waste_weekly_requests\n",
    "    .toPandas().set_index('request_week_of_year')\n",
    "    .plot.bar(figsize=(16, 7),\n",
    "              rot=0,\n",
    "              color='orange',\n",
    "              ec='black'),\n",
    "    plt.title('Number of Weekly Cases Opened by the Solid Waste Department'),\n",
    "    plt.xlabel('Week of Year'),\n",
    "    plt.ylabel('Number of Cases')\n",
    ");"
   ]
  }
 ],
 "metadata": {
  "kernelspec": {
   "display_name": "Python 3",
   "language": "python",
   "name": "python3"
  },
  "language_info": {
   "codemirror_mode": {
    "name": "ipython",
    "version": 3
   },
   "file_extension": ".py",
   "mimetype": "text/x-python",
   "name": "python",
   "nbconvert_exporter": "python",
   "pygments_lexer": "ipython3",
   "version": "3.7.6"
  }
 },
 "nbformat": 4,
 "nbformat_minor": 4
}
