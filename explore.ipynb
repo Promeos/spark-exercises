{
 "cells": [
  {
   "cell_type": "markdown",
   "metadata": {},
   "source": [
    "# Spark Exploration"
   ]
  },
  {
   "cell_type": "code",
   "execution_count": 33,
   "metadata": {},
   "outputs": [],
   "source": [
    "import pyspark.sql\n",
    "from pyspark.sql.functions import *\n",
    "\n",
    "import numpy as np\n",
    "import pandas as pd\n",
    "\n",
    "import matplotlib.pyplot as plt\n",
    "import seaborn as sns\n",
    "\n",
    "from wrangle import wrangle_311\n",
    "\n",
    "import warnings \n",
    "warnings.filterwarnings(\"ignore\")\n",
    "\n",
    "spark = pyspark.sql.SparkSession.builder.getOrCreate()"
   ]
  },
  {
   "cell_type": "code",
   "execution_count": 34,
   "metadata": {},
   "outputs": [
    {
     "name": "stdout",
     "output_type": "stream",
     "text": [
      "[wrangle.py] reading case.csv\n",
      "[wrangle.py] handling data types\n",
      "[wrangle.py] parsing dates\n",
      "[wrangle.py] adding features\n",
      "[wrangle.py] joining departments\n"
     ]
    }
   ],
   "source": [
    "# Use the wrangle function provided by Zach to prepare and\n",
    "# combine the 311 dataset.\n",
    "df = wrangle_311(spark)"
   ]
  },
  {
   "cell_type": "code",
   "execution_count": 41,
   "metadata": {},
   "outputs": [
    {
     "name": "stdout",
     "output_type": "stream",
     "text": [
      "There are 841,704 observations and 20 features.\n"
     ]
    }
   ],
   "source": [
    "# Display the shape of the spark dataframe\n",
    "print(f'There are {df.count():,} observations and {len(df.columns)} features.')"
   ]
  },
  {
   "cell_type": "markdown",
   "metadata": {},
   "source": [
    "# Exercise Questions"
   ]
  },
  {
   "cell_type": "code",
   "execution_count": 42,
   "metadata": {},
   "outputs": [
    {
     "name": "stdout",
     "output_type": "stream",
     "text": [
      "-RECORD 0------------------------------------\n",
      " case_id              | 1014127332           \n",
      " case_opened_date     | 2018-01-01 00:42:00  \n",
      " case_closed_date     | 2018-01-01 12:29:00  \n",
      " case_due_date        | 2020-09-26 00:42:00  \n",
      " case_late            | false                \n",
      " num_days_late        | -998.5087616000001   \n",
      " case_closed          | true                 \n",
      " service_request_type | Stray Animal         \n",
      " SLA_days             | 999.0                \n",
      " case_status          | Closed               \n",
      " source_id            | svcCRMLS             \n",
      " request_address      | 2315  EL PASO ST,... \n",
      " council_district     | 005                  \n",
      " num_weeks_late       | -142.6441088         \n",
      " zipcode              | 78207                \n",
      " case_age             | 219                  \n",
      " days_to_closed       | 0                    \n",
      " case_lifetime        | 0                    \n",
      " department           | Animal Care Services \n",
      " dept_subject_to_SLA  | true                 \n",
      "only showing top 1 row\n",
      "\n"
     ]
    }
   ],
   "source": [
    "# Display a single observation to the collective features represent.\n",
    "df.show(1, vertical=True)"
   ]
  },
  {
   "cell_type": "markdown",
   "metadata": {},
   "source": [
    "## 1. How many different cases are there, by department?\n",
    "\n",
    ">To answer this question, we'll need to use: `groupby()` and `countDistinct()`. We want to find the number of different (meaning: DISTINCT) cases each department handles. This will give us information to consider when looking at open/close, late/not late case time differences.\n",
    "```python\n",
    "(\n",
    "# We groupby the department column to set it as our index (meaning: Observations we're looking for)\n",
    "df.groupby('department')\n",
    "    \n",
    "# We use the aggregate function to collect values by passing a function\n",
    ".agg(\n",
    "    # The function we pass is `countDistinct()`. It counts the number of distinct values\n",
    "    # in a column. In our case 'service_request_type'.\n",
    "    countDistinct('service_request_type')\n",
    "    \n",
    "    # Give the aggregation an alias for presentation.\n",
    "    .alias('distinct_cases'))\n",
    "    \n",
    "# Sort by the department column for presentation.\n",
    ".sort('department')\n",
    "    \n",
    "# Display the results without truncating strings longer than 20 characters.\n",
    ".show(truncate=False)\n",
    ")\n",
    "```"
   ]
  },
  {
   "cell_type": "code",
   "execution_count": 43,
   "metadata": {},
   "outputs": [
    {
     "name": "stdout",
     "output_type": "stream",
     "text": [
      "+------------------------+--------------+\n",
      "|department              |distinct_cases|\n",
      "+------------------------+--------------+\n",
      "|Animal Care Services    |14            |\n",
      "|City Council            |2             |\n",
      "|Customer Service        |2             |\n",
      "|DSD/Code Enforcement    |122           |\n",
      "|Metro Health            |14            |\n",
      "|Parks & Recreation      |44            |\n",
      "|Solid Waste             |56            |\n",
      "|Trans & Cap Improvements|81            |\n",
      "+------------------------+--------------+\n",
      "\n"
     ]
    }
   ],
   "source": [
    "# Answer with inline comments removed.\n",
    "(\n",
    "df.groupby('department')\n",
    ".agg(countDistinct('service_request_type').alias('distinct_cases'))\n",
    ".sort('department')\n",
    ".show(truncate=False)\n",
    ")"
   ]
  },
  {
   "cell_type": "markdown",
   "metadata": {},
   "source": [
    "2. Does the percentage of cases that are late vary by department?\n",
    "> To answer this question let's first establish what were looking for:<br>\n",
    "__Percentage of cases that are late by department__<br>\n",
    "\n",
    "This one was a bit challenging.\n",
    "\n",
    "```python\n",
    "(\n",
    "# Group the dataframe by the department column to set it as the index\n",
    "# ->The observation we're looking for: 'departments.\n",
    "df.groupby('department')\n",
    "\n",
    "# We pivot the 'case_late' column to create a new dataframe\n",
    "# 'case_late' values: True if a case is late, False otherwise.\n",
    ".pivot('case_late')\n",
    "\n",
    "# Use the count function to total the number of late cases and on-time cases.\n",
    ".count()\n",
    "    \n",
    "# Select the 'department' column for context from the pivoted dataframe.\n",
    ".select('department',\n",
    "\n",
    "        # Calculate the proportion of late cases per department.\n",
    "        # Formula per department: total late cases / total cases.\n",
    "        # Round for presentation\n",
    "        round((col('true') / (col('true') + col('false'))), 3)\n",
    "        \n",
    "        # Alias the calculation for context and presentation\n",
    "        .alias('pct_cases_late'))\n",
    "    \n",
    "# City council had 0 missing cases. Fill with 0.\n",
    ".na.fill(0)\n",
    "    \n",
    "# Sort by department for presentation\n",
    ".sort('department')\n",
    "    \n",
    "# display the results\n",
    ".show()\n",
    ")\n",
    "```"
   ]
  },
  {
   "cell_type": "code",
   "execution_count": 122,
   "metadata": {},
   "outputs": [
    {
     "name": "stdout",
     "output_type": "stream",
     "text": [
      "+------------------------+--------------+\n",
      "|department              |pct_cases_late|\n",
      "+------------------------+--------------+\n",
      "|Animal Care Services    |0.199085      |\n",
      "|City Council            |0.0           |\n",
      "|Customer Service        |0.705511      |\n",
      "|DSD/Code Enforcement    |0.081634      |\n",
      "|Metro Health            |0.160566      |\n",
      "|Parks & Recreation      |0.190737      |\n",
      "|Solid Waste             |0.117968      |\n",
      "|Trans & Cap Improvements|0.056251      |\n",
      "+------------------------+--------------+\n",
      "\n"
     ]
    }
   ],
   "source": [
    "# Answer with inline comments removed.\n",
    "df_department_pct_late_cases = (\n",
    "\n",
    "    df.groupby('department')\n",
    "      .pivot('case_late')\n",
    "    .count()\n",
    "    .select('department',\n",
    "            round((col('true')\n",
    "                   / (col('true') + col('false')))\n",
    "                  , 6)\n",
    "            .alias('pct_cases_late'))\n",
    "    \n",
    "    .na.fill(0)\n",
    "    .sort('department')\n",
    ")\n",
    "\n",
    "df_department_pct_late_cases.show(truncate=False)"
   ]
  },
  {
   "cell_type": "code",
   "execution_count": 127,
   "metadata": {
    "scrolled": false
   },
   "outputs": [
    {
     "data": {
      "image/png": "[encoded data removed]",
      "text/plain": [
       "<Figure size 936x504 with 1 Axes>"
      ]
     },
     "metadata": {
      "needs_background": "light"
     },
     "output_type": "display_data"
    }
   ],
   "source": [
    "(\n",
    "df_department_pct_late_cases\n",
    ".toPandas()\n",
    ".set_index('department')\n",
    "['pct_cases_late'].sort_values(ascending=False)\n",
    ".plot.barh(figsize=(13, 7))\n",
    ");"
   ]
  },
  {
   "cell_type": "markdown",
   "metadata": {},
   "source": [
    "3. On average, how late are the late cases by department?"
   ]
  },
  {
   "cell_type": "code",
   "execution_count": null,
   "metadata": {},
   "outputs": [],
   "source": []
  },
  {
   "cell_type": "markdown",
   "metadata": {},
   "source": [
    "4. What is the service type that is the most late? Just for Parks & Rec?"
   ]
  },
  {
   "cell_type": "code",
   "execution_count": null,
   "metadata": {},
   "outputs": [],
   "source": []
  },
  {
   "cell_type": "markdown",
   "metadata": {},
   "source": [
    "5. For the DSD/Code Enforcement department, what are the most common service request types? Look at other departments too."
   ]
  },
  {
   "cell_type": "code",
   "execution_count": null,
   "metadata": {},
   "outputs": [],
   "source": []
  },
  {
   "cell_type": "markdown",
   "metadata": {},
   "source": [
    "6. Does whether or not its a weekend matter for when a case is opened/closed?"
   ]
  },
  {
   "cell_type": "code",
   "execution_count": null,
   "metadata": {},
   "outputs": [],
   "source": []
  },
  {
   "cell_type": "markdown",
   "metadata": {},
   "source": [
    "7. On average, how many cases are opened a day for the Customer Service department?"
   ]
  },
  {
   "cell_type": "code",
   "execution_count": null,
   "metadata": {},
   "outputs": [],
   "source": []
  },
  {
   "cell_type": "markdown",
   "metadata": {},
   "source": [
    "8. Does the number of service requests for the solid waste department vary by day of the week?"
   ]
  },
  {
   "cell_type": "code",
   "execution_count": null,
   "metadata": {},
   "outputs": [],
   "source": []
  }
 ],
 "metadata": {
  "kernelspec": {
   "display_name": "Python 3",
   "language": "python",
   "name": "python3"
  },
  "language_info": {
   "codemirror_mode": {
    "name": "ipython",
    "version": 3
   },
   "file_extension": ".py",
   "mimetype": "text/x-python",
   "name": "python",
   "nbconvert_exporter": "python",
   "pygments_lexer": "ipython3",
   "version": "3.7.6"
  }
 },
 "nbformat": 4,
 "nbformat_minor": 4
}
